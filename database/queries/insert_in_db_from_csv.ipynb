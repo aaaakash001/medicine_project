{
 "cells": [
  {
   "cell_type": "code",
   "execution_count": null,
   "metadata": {},
   "outputs": [],
   "source": [
    "import csv\n",
    "import psycopg2\n"
   ]
  },
  {
   "cell_type": "code",
   "execution_count": null,
   "metadata": {},
   "outputs": [],
   "source": [
    "csv_to_db_headers = {\n",
    "    \"Medicine Name\": \"medicine\",\n",
    "    \"Manufacturer\": \"brand\",\n",
    "    \"Medicine Type\": \"type\",\n",
    "    \"Active Ingredient\": \"composition\",\n",
    "    \"MRP\": \"price\",\n",
    "    \"Prescription Required\": \"prescription\",\n",
    "}\n",
    "\n",
    "db_config = {\n",
    "    'dbname': 'medicine',\n",
    "    'user': 'docassist',\n",
    "    'password': 'aakashchaitanya',\n",
    "    'host': 'localhost',\n",
    "    'port': '5432',\n",
    "}"
   ]
  },
  {
   "cell_type": "code",
   "execution_count": null,
   "metadata": {},
   "outputs": [],
   "source": [
    "\n",
    "with open('all_medicines.csv') as f:\n",
    "    csv_reader = csv.reader(f, delimiter=',')\n",
    "    csv_header = next(csv_reader)\n",
    "    print(csv_header)\n",
    "    db_header = [csv_to_db_headers[header] for header in csv_header]\n",
    "    csv_medicines = list(csv_reader)\n",
    "    print(csv_medicines[0])\n",
    "    f.close()\n"
   ]
  },
  {
   "cell_type": "code",
   "execution_count": null,
   "metadata": {},
   "outputs": [],
   "source": [
    "\n",
    "db_medicines = []\n",
    "for csv_medicine in csv_medicines:\n",
    "    db_medicine = csv_medicine\n",
    "    db_medicine[-1] = True if db_medicine[-1] == \"Prescription Required\" else False\n",
    "    db_medicines.append(db_medicine)\n",
    "\n",
    "print(db_header)\n",
    "print(db_medicines[0])"
   ]
  },
  {
   "cell_type": "code",
   "execution_count": null,
   "metadata": {},
   "outputs": [],
   "source": [
    "query = \"INSERT INTO medicines (medicine, brand, type, composition, price, prescription) VALUES \"\n",
    "totalMedicines = len(db_medicines)\n",
    "\n",
    "for i in range\n",
    "for db_medicine in db_medicines:\n",
    "    query += f\"('{db_medicine[0]}', '{db_medicine[1]}', '{db_medicine[2]}', '{db_medicine[3]}', {db_medicine[4]}, {db_medicine[5]}),\"\n",
    "\n",
    "print(query)"
   ]
  },
  {
   "cell_type": "code",
   "execution_count": null,
   "metadata": {},
   "outputs": [],
   "source": [
    "query = \"\"\n",
    "\n",
    "conn = psycopg2.connect(**db_config)\n",
    "cur = conn.cursor()\n",
    "\n",
    "cur.execute(query)\n",
    "\n",
    "# cur.fetchall()"
   ]
  }
 ],
 "metadata": {
  "kernelspec": {
   "display_name": "Python 3",
   "language": "python",
   "name": "python3"
  },
  "language_info": {
   "codemirror_mode": {
    "name": "ipython",
    "version": 3
   },
   "file_extension": ".py",
   "mimetype": "text/x-python",
   "name": "python",
   "nbconvert_exporter": "python",
   "pygments_lexer": "ipython3",
   "version": "3.10.12"
  }
 },
 "nbformat": 4,
 "nbformat_minor": 2
}
